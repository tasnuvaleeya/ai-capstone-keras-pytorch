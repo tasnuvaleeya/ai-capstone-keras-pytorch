{
 "cells": [
  {
   "cell_type": "markdown",
   "metadata": {
    "button": false,
    "deletable": true,
    "new_sheet": false,
    "run_control": {
     "read_only": false
    }
   },
   "source": [
    "<a href=\"https://cognitiveclass.ai\"><img src = \"https://s3-api.us-geo.objectstorage.softlayer.net/cf-courses-data/CognitiveClass/Logos/organization_logo/organization_logo.png\" width = 400> </a>\n",
    "\n",
    "<h1 align=center><font size = 5>Loading Data</font></h1>"
   ]
  },
  {
   "cell_type": "markdown",
   "metadata": {
    "button": false,
    "deletable": true,
    "new_sheet": false,
    "run_control": {
     "read_only": false
    }
   },
   "source": [
    "## Introduction\n"
   ]
  },
  {
   "cell_type": "markdown",
   "metadata": {
    "button": false,
    "deletable": true,
    "new_sheet": false,
    "run_control": {
     "read_only": false
    }
   },
   "source": [
    "Crack detection has vital importance for structural health monitoring and inspection. In this series of labs, you learn everything you need to efficiently build a classifier using a pre-trained model that would detect cracks in images of concrete. For problem formulation, we will denote images of cracked concrete as the positive class and images of concrete with no cracks as the negative class.\n",
    "\n",
    "In this lab, I will walk you through the process of loading and visualizing the image dataset. \n",
    "\n",
    "**Please note**: You will encounter questions that you will need to answer in order to complete the quiz for this module."
   ]
  },
  {
   "cell_type": "markdown",
   "metadata": {
    "button": false,
    "deletable": true,
    "new_sheet": false,
    "run_control": {
     "read_only": false
    }
   },
   "source": [
    "## Table of Contents\n",
    "\n",
    "<div class=\"alert alert-block alert-info\" style=\"margin-top: 20px\">\n",
    "\n",
    "<font size = 3>    \n",
    "\n",
    "1. <a href=\"#item11\">Download Data</a>\n",
    "2. <a href=\"#item12\">Import Libraries and Packages</a>  \n",
    "3. <a href=\"#item13\">Load Images</a>\n",
    "</font>\n",
    "    \n",
    "</div>"
   ]
  },
  {
   "cell_type": "markdown",
   "metadata": {
    "button": false,
    "deletable": true,
    "new_sheet": false,
    "run_control": {
     "read_only": false
    }
   },
   "source": [
    "   "
   ]
  },
  {
   "cell_type": "markdown",
   "metadata": {
    "button": false,
    "deletable": true,
    "new_sheet": false,
    "run_control": {
     "read_only": false
    }
   },
   "source": [
    "<a id='item11'></a>"
   ]
  },
  {
   "cell_type": "markdown",
   "metadata": {
    "button": false,
    "deletable": true,
    "new_sheet": false,
    "run_control": {
     "read_only": false
    }
   },
   "source": [
    "## Download Data"
   ]
  },
  {
   "cell_type": "markdown",
   "metadata": {
    "button": false,
    "deletable": true,
    "new_sheet": false,
    "run_control": {
     "read_only": false
    }
   },
   "source": [
    "For your convenience, I have placed the data on a server which you can retrieve easily using the **wget** command. So let's run the following line of code to get the data. Given the large size of the image dataset, it might take some time depending on your internet speed."
   ]
  },
  {
   "cell_type": "code",
   "execution_count": 14,
   "metadata": {
    "button": false,
    "deletable": true,
    "new_sheet": false,
    "run_control": {
     "read_only": false
    }
   },
   "outputs": [],
   "source": [
    "# get the data\n",
    "# !wget https://s3-api.us-geo.objectstorage.softlayer.net/cf-courses-data/CognitiveClass/DL0321EN/data/images/concrete_crack_images_for_classification.zip"
   ]
  },
  {
   "cell_type": "markdown",
   "metadata": {
    "button": false,
    "deletable": true,
    "new_sheet": false,
    "run_control": {
     "read_only": false
    }
   },
   "source": [
    "And now if you check the left directory pane, you should see the zipped file *concrete_crack_images_for_classification.zip* appear. So, let's go ahead and unzip the file to access the images. Given the large number of images in the dataset, this might take a couple of minutes, so please be patient, and wait until the code finishes running."
   ]
  },
  {
   "cell_type": "code",
   "execution_count": 15,
   "metadata": {
    "button": false,
    "deletable": true,
    "new_sheet": false,
    "run_control": {
     "read_only": false
    },
    "scrolled": true
   },
   "outputs": [],
   "source": [
    "# !unzip concrete_crack_images_for_classification.zip"
   ]
  },
  {
   "cell_type": "markdown",
   "metadata": {
    "button": false,
    "deletable": true,
    "new_sheet": false,
    "run_control": {
     "read_only": false
    }
   },
   "source": [
    "Now, you should see two folders appear in the left pane: *Positive* and *Negative*. *Negative* is the negative class like we defined it earlier and it represents the concrete images with no cracks. *Positive* on the other hand is the positive class and represents the concrete images with cracks."
   ]
  },
  {
   "cell_type": "markdown",
   "metadata": {
    "button": false,
    "deletable": true,
    "new_sheet": false,
    "run_control": {
     "read_only": false
    }
   },
   "source": [
    "**Important Note**: There are thousands and thousands of images in each folder, so please don't attempt to double click on the folders. This may consume all of your memory and you may end up with a **50*** error. So please **DO NOT DO IT**."
   ]
  },
  {
   "cell_type": "markdown",
   "metadata": {
    "button": false,
    "deletable": true,
    "new_sheet": false,
    "run_control": {
     "read_only": false
    }
   },
   "source": [
    "   "
   ]
  },
  {
   "cell_type": "markdown",
   "metadata": {
    "button": false,
    "deletable": true,
    "new_sheet": false,
    "run_control": {
     "read_only": false
    }
   },
   "source": [
    "<a id='item12'></a>"
   ]
  },
  {
   "cell_type": "markdown",
   "metadata": {
    "button": false,
    "deletable": true,
    "new_sheet": false,
    "run_control": {
     "read_only": false
    }
   },
   "source": [
    "## Import Libraries and Packages"
   ]
  },
  {
   "cell_type": "markdown",
   "metadata": {
    "button": false,
    "deletable": true,
    "new_sheet": false,
    "run_control": {
     "read_only": false
    }
   },
   "source": [
    "Before we proceed, let's import the libraries and packages that we will need to complete the rest of this lab."
   ]
  },
  {
   "cell_type": "code",
   "execution_count": 16,
   "metadata": {
    "button": false,
    "deletable": true,
    "new_sheet": false,
    "run_control": {
     "read_only": false
    }
   },
   "outputs": [],
   "source": [
    "import os\n",
    "import numpy as np\n",
    "import matplotlib.pyplot as plt\n",
    "\n",
    "from PIL import Image"
   ]
  },
  {
   "cell_type": "markdown",
   "metadata": {
    "button": false,
    "deletable": true,
    "new_sheet": false,
    "run_control": {
     "read_only": false
    }
   },
   "source": [
    "  "
   ]
  },
  {
   "cell_type": "markdown",
   "metadata": {
    "button": false,
    "deletable": true,
    "new_sheet": false,
    "run_control": {
     "read_only": false
    }
   },
   "source": [
    "<a id='item13'></a>"
   ]
  },
  {
   "cell_type": "markdown",
   "metadata": {
    "button": false,
    "deletable": true,
    "new_sheet": false,
    "run_control": {
     "read_only": false
    }
   },
   "source": [
    "## Load Images"
   ]
  },
  {
   "cell_type": "markdown",
   "metadata": {
    "button": false,
    "deletable": true,
    "new_sheet": false,
    "run_control": {
     "read_only": false
    }
   },
   "source": [
    "Next, we will use the standard approach of loading all images into memory and demonstrate how this approach is not efficient at all when it comes to building deep learning models for classifying images."
   ]
  },
  {
   "cell_type": "markdown",
   "metadata": {
    "button": false,
    "deletable": true,
    "new_sheet": false,
    "run_control": {
     "read_only": false
    }
   },
   "source": [
    "Let's start by reading in the negative images. First, we will use **os.scandir** to build an iterator to iterate through *./Negative* directory that contains all the images with no cracks."
   ]
  },
  {
   "cell_type": "code",
   "execution_count": 17,
   "metadata": {
    "button": false,
    "deletable": true,
    "new_sheet": false,
    "run_control": {
     "read_only": false
    }
   },
   "outputs": [
    {
     "data": {
      "text/plain": [
       "<posix.ScandirIterator at 0x7fc3e2e6c270>"
      ]
     },
     "execution_count": 17,
     "metadata": {},
     "output_type": "execute_result"
    }
   ],
   "source": [
    "negative_files = os.scandir('./Negative')\n",
    "negative_files"
   ]
  },
  {
   "cell_type": "markdown",
   "metadata": {
    "button": false,
    "deletable": true,
    "new_sheet": false,
    "run_control": {
     "read_only": false
    }
   },
   "source": [
    "Then, we will grab the first file in the directory."
   ]
  },
  {
   "cell_type": "code",
   "execution_count": 18,
   "metadata": {
    "button": false,
    "deletable": true,
    "new_sheet": false,
    "run_control": {
     "read_only": false
    }
   },
   "outputs": [
    {
     "data": {
      "text/plain": [
       "<DirEntry '02655.jpg'>"
      ]
     },
     "execution_count": 18,
     "metadata": {},
     "output_type": "execute_result"
    }
   ],
   "source": [
    "file_name = next(negative_files)\n",
    "file_name"
   ]
  },
  {
   "cell_type": "markdown",
   "metadata": {
    "button": false,
    "deletable": true,
    "new_sheet": false,
    "run_control": {
     "read_only": false
    }
   },
   "source": [
    "Since the directory can contain elements that are not files, we will only read the element if it is a file."
   ]
  },
  {
   "cell_type": "code",
   "execution_count": 19,
   "metadata": {
    "button": false,
    "deletable": true,
    "new_sheet": false,
    "run_control": {
     "read_only": false
    }
   },
   "outputs": [
    {
     "data": {
      "text/plain": [
       "True"
      ]
     },
     "execution_count": 19,
     "metadata": {},
     "output_type": "execute_result"
    }
   ],
   "source": [
    "os.path.isfile(file_name)"
   ]
  },
  {
   "cell_type": "markdown",
   "metadata": {
    "button": false,
    "deletable": true,
    "new_sheet": false,
    "run_control": {
     "read_only": false
    }
   },
   "source": [
    "Get the image name."
   ]
  },
  {
   "cell_type": "code",
   "execution_count": 20,
   "metadata": {
    "button": false,
    "deletable": true,
    "new_sheet": false,
    "run_control": {
     "read_only": false
    }
   },
   "outputs": [
    {
     "data": {
      "text/plain": [
       "'02655.jpg'"
      ]
     },
     "execution_count": 20,
     "metadata": {},
     "output_type": "execute_result"
    }
   ],
   "source": [
    "image_name = str(file_name).split(\"'\")[1]\n",
    "image_name"
   ]
  },
  {
   "cell_type": "markdown",
   "metadata": {
    "button": false,
    "deletable": true,
    "new_sheet": false,
    "run_control": {
     "read_only": false
    }
   },
   "source": [
    "Read in the image data."
   ]
  },
  {
   "cell_type": "code",
   "execution_count": 21,
   "metadata": {
    "button": false,
    "deletable": true,
    "new_sheet": false,
    "run_control": {
     "read_only": false
    },
    "scrolled": true
   },
   "outputs": [
    {
     "data": {
      "text/plain": [
       "array([[[200, 192, 181],\n",
       "        [200, 192, 181],\n",
       "        [199, 191, 180],\n",
       "        ...,\n",
       "        [204, 194, 184],\n",
       "        [204, 194, 184],\n",
       "        [204, 194, 184]],\n",
       "\n",
       "       [[200, 192, 181],\n",
       "        [200, 192, 181],\n",
       "        [200, 192, 181],\n",
       "        ...,\n",
       "        [205, 195, 185],\n",
       "        [205, 195, 185],\n",
       "        [205, 195, 185]],\n",
       "\n",
       "       [[201, 193, 182],\n",
       "        [201, 193, 182],\n",
       "        [200, 192, 181],\n",
       "        ...,\n",
       "        [207, 197, 187],\n",
       "        [207, 197, 187],\n",
       "        [207, 197, 187]],\n",
       "\n",
       "       ...,\n",
       "\n",
       "       [[205, 196, 181],\n",
       "        [204, 195, 180],\n",
       "        [202, 193, 178],\n",
       "        ...,\n",
       "        [198, 188, 176],\n",
       "        [198, 188, 176],\n",
       "        [198, 188, 176]],\n",
       "\n",
       "       [[205, 196, 181],\n",
       "        [204, 195, 180],\n",
       "        [202, 193, 178],\n",
       "        ...,\n",
       "        [198, 188, 176],\n",
       "        [198, 188, 176],\n",
       "        [198, 188, 176]],\n",
       "\n",
       "       [[205, 196, 181],\n",
       "        [204, 195, 180],\n",
       "        [202, 193, 178],\n",
       "        ...,\n",
       "        [198, 188, 176],\n",
       "        [198, 188, 176],\n",
       "        [198, 188, 176]]], dtype=uint8)"
      ]
     },
     "execution_count": 21,
     "metadata": {},
     "output_type": "execute_result"
    }
   ],
   "source": [
    "image_data = plt.imread('./Negative/{}'.format(image_name))\n",
    "image_data"
   ]
  },
  {
   "cell_type": "markdown",
   "metadata": {
    "button": false,
    "deletable": true,
    "new_sheet": false,
    "run_control": {
     "read_only": false
    }
   },
   "source": [
    "### **Question**: What is the dimension of a single image according to **image_data**? "
   ]
  },
  {
   "cell_type": "code",
   "execution_count": 22,
   "metadata": {
    "button": false,
    "deletable": true,
    "new_sheet": false,
    "run_control": {
     "read_only": false
    }
   },
   "outputs": [
    {
     "data": {
      "text/plain": [
       "(227, 227, 3)"
      ]
     },
     "execution_count": 22,
     "metadata": {},
     "output_type": "execute_result"
    }
   ],
   "source": [
    "## You can use this cell to type your code to answer the above question\n",
    "image_data.shape\n",
    "\n"
   ]
  },
  {
   "cell_type": "markdown",
   "metadata": {
    "button": false,
    "deletable": true,
    "new_sheet": false,
    "run_control": {
     "read_only": false
    }
   },
   "source": [
    "Let's view the image."
   ]
  },
  {
   "cell_type": "code",
   "execution_count": 23,
   "metadata": {
    "button": false,
    "deletable": true,
    "new_sheet": false,
    "run_control": {
     "read_only": false
    }
   },
   "outputs": [
    {
     "data": {
      "text/plain": [
       "<matplotlib.image.AxesImage at 0x7fc3dabec710>"
      ]
     },
     "execution_count": 23,
     "metadata": {},
     "output_type": "execute_result"
    },
    {
     "data": {
      "image/png": "[encoded data removed]",
      "text/plain": [
       "<Figure size 432x288 with 1 Axes>"
      ]
     },
     "metadata": {
      "needs_background": "light"
     },
     "output_type": "display_data"
    }
   ],
   "source": [
    "plt.imshow(image_data)"
   ]
  },
  {
   "cell_type": "markdown",
   "metadata": {
    "button": false,
    "deletable": true,
    "new_sheet": false,
    "run_control": {
     "read_only": false
    }
   },
   "source": [
    "Now that we are familiar with the process of reading in an image data, let's loop through all the image in the *./Negative* directory and read them all in and save them in the list **negative_images**. We will also time it to see how long it takes to read in all the images."
   ]
  },
  {
   "cell_type": "code",
   "execution_count": null,
   "metadata": {
    "button": false,
    "deletable": true,
    "new_sheet": false,
    "run_control": {
     "read_only": false
    }
   },
   "outputs": [],
   "source": [
    "%%time\n",
    "\n",
    "negative_images = []\n",
    "for file_name in negative_files:\n",
    "    if os.path.isfile(file_name):\n",
    "        image_name = str(file_name).split(\"'\")[1]\n",
    "        image_data = plt.imread('./Negative/{}'.format(image_name))\n",
    "        negative_images.append(image_data)\n",
    "    \n",
    "negative_images = np.array(negative_images)"
   ]
  },
  {
   "cell_type": "markdown",
   "metadata": {
    "button": false,
    "deletable": true,
    "new_sheet": false,
    "run_control": {
     "read_only": false
    }
   },
   "source": [
    "Oops! The kernel died due to an out-of-memory error. Since the kernel died, you may have to run the above cell to load the libraries and packages again.\n",
    "\n",
    "Loading images into memory is definitely not the right approach when working with images as you can hit your limit on memory and other resources fairly quickly. Therefore, let's repeat the previous process but let's save the paths to the images in a variable instead of loading and saving the images themselves."
   ]
  },
  {
   "cell_type": "markdown",
   "metadata": {
    "button": false,
    "deletable": true,
    "new_sheet": false,
    "run_control": {
     "read_only": false
    }
   },
   "source": [
    "So instead of using **os.scandir**, we will use **os.listdir**."
   ]
  },
  {
   "cell_type": "code",
   "execution_count": null,
   "metadata": {
    "button": false,
    "deletable": true,
    "new_sheet": false,
    "run_control": {
     "read_only": false
    },
    "scrolled": true
   },
   "outputs": [],
   "source": [
    "import os\n",
    "negative_images = os.listdir('./Negative')\n",
    "negative_images"
   ]
  },
  {
   "cell_type": "markdown",
   "metadata": {
    "button": false,
    "deletable": true,
    "new_sheet": false,
    "run_control": {
     "read_only": false
    }
   },
   "source": [
    "Notice how the images are not sorted, so let's call the <code>sort</code> method to sort the images."
   ]
  },
  {
   "cell_type": "code",
   "execution_count": null,
   "metadata": {
    "button": false,
    "deletable": true,
    "new_sheet": false,
    "run_control": {
     "read_only": false
    },
    "scrolled": true
   },
   "outputs": [],
   "source": [
    "negative_images.sort()\n",
    "negative_images"
   ]
  },
  {
   "cell_type": "markdown",
   "metadata": {
    "button": false,
    "deletable": true,
    "new_sheet": false,
    "run_control": {
     "read_only": false
    }
   },
   "source": [
    "Before we can show an image, we need to open it, which we can do using the **Image** module in the **PIL** library. So to open the first image, we run the following:"
   ]
  },
  {
   "cell_type": "code",
   "execution_count": null,
   "metadata": {
    "button": false,
    "deletable": true,
    "new_sheet": false,
    "run_control": {
     "read_only": false
    }
   },
   "outputs": [],
   "source": [
    "image_data = Image.open('./Negative/{}'.format(negative_images[0]))"
   ]
  },
  {
   "cell_type": "markdown",
   "metadata": {
    "button": false,
    "deletable": true,
    "new_sheet": false,
    "run_control": {
     "read_only": false
    }
   },
   "source": [
    "Then to view the image, you can simply run:"
   ]
  },
  {
   "cell_type": "code",
   "execution_count": 7,
   "metadata": {
    "button": false,
    "deletable": true,
    "new_sheet": false,
    "run_control": {
     "read_only": false
    }
   },
   "outputs": [
    {
     "data": {
      "image/png": "[encoded data removed]",
      "text/plain": [
       "<PIL.JpegImagePlugin.JpegImageFile image mode=RGB size=227x227 at 0x7FC3E2F38B38>"
      ]
     },
     "execution_count": 7,
     "metadata": {},
     "output_type": "execute_result"
    }
   ],
   "source": [
    "image_data"
   ]
  },
  {
   "cell_type": "markdown",
   "metadata": {
    "button": false,
    "deletable": true,
    "new_sheet": false,
    "run_control": {
     "read_only": false
    }
   },
   "source": [
    "or use the <code>imshow</code> method as follows:"
   ]
  },
  {
   "cell_type": "code",
   "execution_count": 8,
   "metadata": {
    "button": false,
    "deletable": true,
    "new_sheet": false,
    "run_control": {
     "read_only": false
    }
   },
   "outputs": [
    {
     "data": {
      "text/plain": [
       "<matplotlib.image.AxesImage at 0x7fc3e2e54be0>"
      ]
     },
     "execution_count": 8,
     "metadata": {},
     "output_type": "execute_result"
    },
    {
     "data": {
      "image/png": "[encoded data removed]",
      "text/plain": [
       "<Figure size 432x288 with 1 Axes>"
      ]
     },
     "metadata": {
      "needs_background": "light"
     },
     "output_type": "display_data"
    }
   ],
   "source": [
    "plt.imshow(image_data)"
   ]
  },
  {
   "cell_type": "markdown",
   "metadata": {
    "button": false,
    "deletable": true,
    "new_sheet": false,
    "run_control": {
     "read_only": false
    }
   },
   "source": [
    "Let's loop through all the images in the <code>./Negative</code> directory and add save their paths."
   ]
  },
  {
   "cell_type": "code",
   "execution_count": 9,
   "metadata": {
    "button": false,
    "deletable": true,
    "new_sheet": false,
    "run_control": {
     "read_only": false
    },
    "scrolled": true
   },
   "outputs": [
    {
     "data": {
      "text/plain": [
       "['./Negative/00001.jpg',\n",
       " './Negative/00002.jpg',\n",
       " './Negative/00003.jpg',\n",
       " './Negative/00004.jpg',\n",
       " './Negative/00005.jpg',\n",
       " './Negative/00006.jpg',\n",
       " './Negative/00007.jpg',\n",
       " './Negative/00008.jpg',\n",
       " './Negative/00009.jpg',\n",
       " './Negative/00010.jpg',\n",
       " './Negative/00011.jpg',\n",
       " './Negative/00012.jpg',\n",
       " './Negative/00013.jpg',\n",
       " './Negative/00014.jpg',\n",
       " './Negative/00015.jpg',\n",
       " './Negative/00016.jpg',\n",
       " './Negative/00017.jpg',\n",
       " './Negative/00018.jpg',\n",
       " './Negative/00019.jpg',\n",
       " './Negative/00020.jpg',\n",
       " './Negative/00021.jpg',\n",
       " './Negative/00022.jpg',\n",
       " './Negative/00023.jpg',\n",
       " './Negative/00024.jpg',\n",
       " './Negative/00025.jpg',\n",
       " './Negative/00026.jpg',\n",
       " './Negative/00027.jpg',\n",
       " './Negative/00028.jpg',\n",
       " './Negative/00029.jpg',\n",
       " './Negative/00030.jpg',\n",
       " './Negative/00031.jpg',\n",
       " './Negative/00032.jpg',\n",
       " './Negative/00033.jpg',\n",
       " './Negative/00034.jpg',\n",
       " './Negative/00035.jpg',\n",
       " './Negative/00036.jpg',\n",
       " './Negative/00037.jpg',\n",
       " './Negative/00038.jpg',\n",
       " './Negative/00039.jpg',\n",
       " './Negative/00040.jpg',\n",
       " './Negative/00041.jpg',\n",
       " './Negative/00042.jpg',\n",
       " './Negative/00043.jpg',\n",
       " './Negative/00044.jpg',\n",
       " './Negative/00045.jpg',\n",
       " './Negative/00046.jpg',\n",
       " './Negative/00047.jpg',\n",
       " './Negative/00048.jpg',\n",
       " './Negative/00049.jpg',\n",
       " './Negative/00050.jpg',\n",
       " './Negative/00051.jpg',\n",
       " './Negative/00052.jpg',\n",
       " './Negative/00053.jpg',\n",
       " './Negative/00054.jpg',\n",
       " './Negative/00055.jpg',\n",
       " './Negative/00056.jpg',\n",
       " './Negative/00057.jpg',\n",
       " './Negative/00058.jpg',\n",
       " './Negative/00059.jpg',\n",
       " './Negative/00060.jpg',\n",
       " './Negative/00061.jpg',\n",
       " './Negative/00062.jpg',\n",
       " './Negative/00063.jpg',\n",
       " './Negative/00064.jpg',\n",
       " './Negative/00065.jpg',\n",
       " './Negative/00066.jpg',\n",
       " './Negative/00067.jpg',\n",
       " './Negative/00068.jpg',\n",
       " './Negative/00069.jpg',\n",
       " './Negative/00070.jpg',\n",
       " './Negative/00071.jpg',\n",
       " './Negative/00072.jpg',\n",
       " './Negative/00073.jpg',\n",
       " './Negative/00074.jpg',\n",
       " './Negative/00075.jpg',\n",
       " './Negative/00076.jpg',\n",
       " './Negative/00077.jpg',\n",
       " './Negative/00078.jpg',\n",
       " './Negative/00079.jpg',\n",
       " './Negative/00080.jpg',\n",
       " './Negative/00081.jpg',\n",
       " './Negative/00082.jpg',\n",
       " './Negative/00083.jpg',\n",
       " './Negative/00084.jpg',\n",
       " './Negative/00085.jpg',\n",
       " './Negative/00086.jpg',\n",
       " './Negative/00087.jpg',\n",
       " './Negative/00088.jpg',\n",
       " './Negative/00089.jpg',\n",
       " './Negative/00090.jpg',\n",
       " './Negative/00091.jpg',\n",
       " './Negative/00092.jpg',\n",
       " './Negative/00093.jpg',\n",
       " './Negative/00094.jpg',\n",
       " './Negative/00095.jpg',\n",
       " './Negative/00096.jpg',\n",
       " './Negative/00097.jpg',\n",
       " './Negative/00098.jpg',\n",
       " './Negative/00099.jpg',\n",
       " './Negative/00100.jpg',\n",
       " './Negative/00101.jpg',\n",
       " './Negative/00102.jpg',\n",
       " './Negative/00103.jpg',\n",
       " './Negative/00104.jpg',\n",
       " './Negative/00105.jpg',\n",
       " './Negative/00106.jpg',\n",
       " './Negative/00107.jpg',\n",
       " './Negative/00108.jpg',\n",
       " './Negative/00109.jpg',\n",
       " './Negative/00110.jpg',\n",
       " './Negative/00111.jpg',\n",
       " './Negative/00112.jpg',\n",
       " './Negative/00113.jpg',\n",
       " './Negative/00114.jpg',\n",
       " './Negative/00115.jpg',\n",
       " './Negative/00116.jpg',\n",
       " './Negative/00117.jpg',\n",
       " './Negative/00118.jpg',\n",
       " './Negative/00119.jpg',\n",
       " './Negative/00120.jpg',\n",
       " './Negative/00121.jpg',\n",
       " './Negative/00122.jpg',\n",
       " './Negative/00123.jpg',\n",
       " './Negative/00124.jpg',\n",
       " './Negative/00125.jpg',\n",
       " './Negative/00126.jpg',\n",
       " './Negative/00127.jpg',\n",
       " './Negative/00128.jpg',\n",
       " './Negative/00129.jpg',\n",
       " './Negative/00130.jpg',\n",
       " './Negative/00131.jpg',\n",
       " './Negative/00132.jpg',\n",
       " './Negative/00133.jpg',\n",
       " './Negative/00134.jpg',\n",
       " './Negative/00135.jpg',\n",
       " './Negative/00136.jpg',\n",
       " './Negative/00137.jpg',\n",
       " './Negative/00138.jpg',\n",
       " './Negative/00139.jpg',\n",
       " './Negative/00140.jpg',\n",
       " './Negative/00141.jpg',\n",
       " './Negative/00142.jpg',\n",
       " './Negative/00143.jpg',\n",
       " './Negative/00144.jpg',\n",
       " './Negative/00145.jpg',\n",
       " './Negative/00146.jpg',\n",
       " './Negative/00147.jpg',\n",
       " './Negative/00148.jpg',\n",
       " './Negative/00149.jpg',\n",
       " './Negative/00150.jpg',\n",
       " './Negative/00151.jpg',\n",
       " './Negative/00152.jpg',\n",
       " './Negative/00153.jpg',\n",
       " './Negative/00154.jpg',\n",
       " './Negative/00155.jpg',\n",
       " './Negative/00156.jpg',\n",
       " './Negative/00157.jpg',\n",
       " './Negative/00158.jpg',\n",
       " './Negative/00159.jpg',\n",
       " './Negative/00160.jpg',\n",
       " './Negative/00161.jpg',\n",
       " './Negative/00162.jpg',\n",
       " './Negative/00163.jpg',\n",
       " './Negative/00164.jpg',\n",
       " './Negative/00165.jpg',\n",
       " './Negative/00166.jpg',\n",
       " './Negative/00167.jpg',\n",
       " './Negative/00168.jpg',\n",
       " './Negative/00169.jpg',\n",
       " './Negative/00170.jpg',\n",
       " './Negative/00171.jpg',\n",
       " './Negative/00172.jpg',\n",
       " './Negative/00173.jpg',\n",
       " './Negative/00174.jpg',\n",
       " './Negative/00175.jpg',\n",
       " './Negative/00176.jpg',\n",
       " './Negative/00177.jpg',\n",
       " './Negative/00178.jpg',\n",
       " './Negative/00179.jpg',\n",
       " './Negative/00180.jpg',\n",
       " './Negative/00181.jpg',\n",
       " './Negative/00182.jpg',\n",
       " './Negative/00183.jpg',\n",
       " './Negative/00184.jpg',\n",
       " './Negative/00185.jpg',\n",
       " './Negative/00186.jpg',\n",
       " './Negative/00187.jpg',\n",
       " './Negative/00188.jpg',\n",
       " './Negative/00189.jpg',\n",
       " './Negative/00190.jpg',\n",
       " './Negative/00191.jpg',\n",
       " './Negative/00192.jpg',\n",
       " './Negative/00193.jpg',\n",
       " './Negative/00194.jpg',\n",
       " './Negative/00195.jpg',\n",
       " './Negative/00196.jpg',\n",
       " './Negative/00197.jpg',\n",
       " './Negative/00198.jpg',\n",
       " './Negative/00199.jpg',\n",
       " './Negative/00200.jpg',\n",
       " './Negative/00201.jpg',\n",
       " './Negative/00202.jpg',\n",
       " './Negative/00203.jpg',\n",
       " './Negative/00204.jpg',\n",
       " './Negative/00205.jpg',\n",
       " './Negative/00206.jpg',\n",
       " './Negative/00207.jpg',\n",
       " './Negative/00208.jpg',\n",
       " './Negative/00209.jpg',\n",
       " './Negative/00210.jpg',\n",
       " './Negative/00211.jpg',\n",
       " './Negative/00212.jpg',\n",
       " './Negative/00213.jpg',\n",
       " './Negative/00214.jpg',\n",
       " './Negative/00215.jpg',\n",
       " './Negative/00216.jpg',\n",
       " './Negative/00217.jpg',\n",
       " './Negative/00218.jpg',\n",
       " './Negative/00219.jpg',\n",
       " './Negative/00220.jpg',\n",
       " './Negative/00221.jpg',\n",
       " './Negative/00222.jpg',\n",
       " './Negative/00223.jpg',\n",
       " './Negative/00224.jpg',\n",
       " './Negative/00225.jpg',\n",
       " './Negative/00226.jpg',\n",
       " './Negative/00227.jpg',\n",
       " './Negative/00228.jpg',\n",
       " './Negative/00229.jpg',\n",
       " './Negative/00230.jpg',\n",
       " './Negative/00231.jpg',\n",
       " './Negative/00232.jpg',\n",
       " './Negative/00233.jpg',\n",
       " './Negative/00234.jpg',\n",
       " './Negative/00235.jpg',\n",
       " './Negative/00236.jpg',\n",
       " './Negative/00237.jpg',\n",
       " './Negative/00238.jpg',\n",
       " './Negative/00239.jpg',\n",
       " './Negative/00240.jpg',\n",
       " './Negative/00241.jpg',\n",
       " './Negative/00242.jpg',\n",
       " './Negative/00243.jpg',\n",
       " './Negative/00244.jpg',\n",
       " './Negative/00245.jpg',\n",
       " './Negative/00246.jpg',\n",
       " './Negative/00247.jpg',\n",
       " './Negative/00248.jpg',\n",
       " './Negative/00249.jpg',\n",
       " './Negative/00250.jpg',\n",
       " './Negative/00251.jpg',\n",
       " './Negative/00252.jpg',\n",
       " './Negative/00253.jpg',\n",
       " './Negative/00254.jpg',\n",
       " './Negative/00255.jpg',\n",
       " './Negative/00256.jpg',\n",
       " './Negative/00257.jpg',\n",
       " './Negative/00258.jpg',\n",
       " './Negative/00259.jpg',\n",
       " './Negative/00260.jpg',\n",
       " './Negative/00261.jpg',\n",
       " './Negative/00262.jpg',\n",
       " './Negative/00263.jpg',\n",
       " './Negative/00264.jpg',\n",
       " './Negative/00265.jpg',\n",
       " './Negative/00266.jpg',\n",
       " './Negative/00267.jpg',\n",
       " './Negative/00268.jpg',\n",
       " './Negative/00269.jpg',\n",
       " './Negative/00270.jpg',\n",
       " './Negative/00271.jpg',\n",
       " './Negative/00272.jpg',\n",
       " './Negative/00273.jpg',\n",
       " './Negative/00274.jpg',\n",
       " './Negative/00275.jpg',\n",
       " './Negative/00276.jpg',\n",
       " './Negative/00277.jpg',\n",
       " './Negative/00278.jpg',\n",
       " './Negative/00279.jpg',\n",
       " './Negative/00280.jpg',\n",
       " './Negative/00281.jpg',\n",
       " './Negative/00282.jpg',\n",
       " './Negative/00283.jpg',\n",
       " './Negative/00284.jpg',\n",
       " './Negative/00285.jpg',\n",
       " './Negative/00286.jpg',\n",
       " './Negative/00287.jpg',\n",
       " './Negative/00288.jpg',\n",
       " './Negative/00289.jpg',\n",
       " './Negative/00290.jpg',\n",
       " './Negative/00291.jpg',\n",
       " './Negative/00292.jpg',\n",
       " './Negative/00293.jpg',\n",
       " './Negative/00294.jpg',\n",
       " './Negative/00295.jpg',\n",
       " './Negative/00296.jpg',\n",
       " './Negative/00297.jpg',\n",
       " './Negative/00298.jpg',\n",
       " './Negative/00299.jpg',\n",
       " './Negative/00300.jpg',\n",
       " './Negative/00301.jpg',\n",
       " './Negative/00302.jpg',\n",
       " './Negative/00303.jpg',\n",
       " './Negative/00304.jpg',\n",
       " './Negative/00305.jpg',\n",
       " './Negative/00306.jpg',\n",
       " './Negative/00307.jpg',\n",
       " './Negative/00308.jpg',\n",
       " './Negative/00309.jpg',\n",
       " './Negative/00310.jpg',\n",
       " './Negative/00311.jpg',\n",
       " './Negative/00312.jpg',\n",
       " './Negative/00313.jpg',\n",
       " './Negative/00314.jpg',\n",
       " './Negative/00315.jpg',\n",
       " './Negative/00316.jpg',\n",
       " './Negative/00317.jpg',\n",
       " './Negative/00318.jpg',\n",
       " './Negative/00319.jpg',\n",
       " './Negative/00320.jpg',\n",
       " './Negative/00321.jpg',\n",
       " './Negative/00322.jpg',\n",
       " './Negative/00323.jpg',\n",
       " './Negative/00324.jpg',\n",
       " './Negative/00325.jpg',\n",
       " './Negative/00326.jpg',\n",
       " './Negative/00327.jpg',\n",
       " './Negative/00328.jpg',\n",
       " './Negative/00329.jpg',\n",
       " './Negative/00330.jpg',\n",
       " './Negative/00331.jpg',\n",
       " './Negative/00332.jpg',\n",
       " './Negative/00333.jpg',\n",
       " './Negative/00334.jpg',\n",
       " './Negative/00335.jpg',\n",
       " './Negative/00336.jpg',\n",
       " './Negative/00337.jpg',\n",
       " './Negative/00338.jpg',\n",
       " './Negative/00339.jpg',\n",
       " './Negative/00340.jpg',\n",
       " './Negative/00341.jpg',\n",
       " './Negative/00342.jpg',\n",
       " './Negative/00343.jpg',\n",
       " './Negative/00344.jpg',\n",
       " './Negative/00345.jpg',\n",
       " './Negative/00346.jpg',\n",
       " './Negative/00347.jpg',\n",
       " './Negative/00348.jpg',\n",
       " './Negative/00349.jpg',\n",
       " './Negative/00350.jpg',\n",
       " './Negative/00351.jpg',\n",
       " './Negative/00352.jpg',\n",
       " './Negative/00353.jpg',\n",
       " './Negative/00354.jpg',\n",
       " './Negative/00355.jpg',\n",
       " './Negative/00356.jpg',\n",
       " './Negative/00357.jpg',\n",
       " './Negative/00358.jpg',\n",
       " './Negative/00359.jpg',\n",
       " './Negative/00360.jpg',\n",
       " './Negative/00361.jpg',\n",
       " './Negative/00362.jpg',\n",
       " './Negative/00363.jpg',\n",
       " './Negative/00364.jpg',\n",
       " './Negative/00365.jpg',\n",
       " './Negative/00366.jpg',\n",
       " './Negative/00367.jpg',\n",
       " './Negative/00368.jpg',\n",
       " './Negative/00369.jpg',\n",
       " './Negative/00370.jpg',\n",
       " './Negative/00371.jpg',\n",
       " './Negative/00372.jpg',\n",
       " './Negative/00373.jpg',\n",
       " './Negative/00374.jpg',\n",
       " './Negative/00375.jpg',\n",
       " './Negative/00376.jpg',\n",
       " './Negative/00377.jpg',\n",
       " './Negative/00378.jpg',\n",
       " './Negative/00379.jpg',\n",
       " './Negative/00380.jpg',\n",
       " './Negative/00381.jpg',\n",
       " './Negative/00382.jpg',\n",
       " './Negative/00383.jpg',\n",
       " './Negative/00384.jpg',\n",
       " './Negative/00385.jpg',\n",
       " './Negative/00386.jpg',\n",
       " './Negative/00387.jpg',\n",
       " './Negative/00388.jpg',\n",
       " './Negative/00389.jpg',\n",
       " './Negative/00390.jpg',\n",
       " './Negative/00391.jpg',\n",
       " './Negative/00392.jpg',\n",
       " './Negative/00393.jpg',\n",
       " './Negative/00394.jpg',\n",
       " './Negative/00395.jpg',\n",
       " './Negative/00396.jpg',\n",
       " './Negative/00397.jpg',\n",
       " './Negative/00398.jpg',\n",
       " './Negative/00399.jpg',\n",
       " './Negative/00400.jpg',\n",
       " './Negative/00401.jpg',\n",
       " './Negative/00402.jpg',\n",
       " './Negative/00403.jpg',\n",
       " './Negative/00404.jpg',\n",
       " './Negative/00405.jpg',\n",
       " './Negative/00406.jpg',\n",
       " './Negative/00407.jpg',\n",
       " './Negative/00408.jpg',\n",
       " './Negative/00409.jpg',\n",
       " './Negative/00410.jpg',\n",
       " './Negative/00411.jpg',\n",
       " './Negative/00412.jpg',\n",
       " './Negative/00413.jpg',\n",
       " './Negative/00414.jpg',\n",
       " './Negative/00415.jpg',\n",
       " './Negative/00416.jpg',\n",
       " './Negative/00417.jpg',\n",
       " './Negative/00418.jpg',\n",
       " './Negative/00419.jpg',\n",
       " './Negative/00420.jpg',\n",
       " './Negative/00421.jpg',\n",
       " './Negative/00422.jpg',\n",
       " './Negative/00423.jpg',\n",
       " './Negative/00424.jpg',\n",
       " './Negative/00425.jpg',\n",
       " './Negative/00426.jpg',\n",
       " './Negative/00427.jpg',\n",
       " './Negative/00428.jpg',\n",
       " './Negative/00429.jpg',\n",
       " './Negative/00430.jpg',\n",
       " './Negative/00431.jpg',\n",
       " './Negative/00432.jpg',\n",
       " './Negative/00433.jpg',\n",
       " './Negative/00434.jpg',\n",
       " './Negative/00435.jpg',\n",
       " './Negative/00436.jpg',\n",
       " './Negative/00437.jpg',\n",
       " './Negative/00438.jpg',\n",
       " './Negative/00439.jpg',\n",
       " './Negative/00440.jpg',\n",
       " './Negative/00441.jpg',\n",
       " './Negative/00442.jpg',\n",
       " './Negative/00443.jpg',\n",
       " './Negative/00444.jpg',\n",
       " './Negative/00445.jpg',\n",
       " './Negative/00446.jpg',\n",
       " './Negative/00447.jpg',\n",
       " './Negative/00448.jpg',\n",
       " './Negative/00449.jpg',\n",
       " './Negative/00450.jpg',\n",
       " './Negative/00451.jpg',\n",
       " './Negative/00452.jpg',\n",
       " './Negative/00453.jpg',\n",
       " './Negative/00454.jpg',\n",
       " './Negative/00455.jpg',\n",
       " './Negative/00456.jpg',\n",
       " './Negative/00457.jpg',\n",
       " './Negative/00458.jpg',\n",
       " './Negative/00459.jpg',\n",
       " './Negative/00460.jpg',\n",
       " './Negative/00461.jpg',\n",
       " './Negative/00462.jpg',\n",
       " './Negative/00463.jpg',\n",
       " './Negative/00464.jpg',\n",
       " './Negative/00465.jpg',\n",
       " './Negative/00466.jpg',\n",
       " './Negative/00467.jpg',\n",
       " './Negative/00468.jpg',\n",
       " './Negative/00469.jpg',\n",
       " './Negative/00470.jpg',\n",
       " './Negative/00471.jpg',\n",
       " './Negative/00472.jpg',\n",
       " './Negative/00473.jpg',\n",
       " './Negative/00474.jpg',\n",
       " './Negative/00475.jpg',\n",
       " './Negative/00476.jpg',\n",
       " './Negative/00477.jpg',\n",
       " './Negative/00478.jpg',\n",
       " './Negative/00479.jpg',\n",
       " './Negative/00480.jpg',\n",
       " './Negative/00481.jpg',\n",
       " './Negative/00482.jpg',\n",
       " './Negative/00483.jpg',\n",
       " './Negative/00484.jpg',\n",
       " './Negative/00485.jpg',\n",
       " './Negative/00486.jpg',\n",
       " './Negative/00487.jpg',\n",
       " './Negative/00488.jpg',\n",
       " './Negative/00489.jpg',\n",
       " './Negative/00490.jpg',\n",
       " './Negative/00491.jpg',\n",
       " './Negative/00492.jpg',\n",
       " './Negative/00493.jpg',\n",
       " './Negative/00494.jpg',\n",
       " './Negative/00495.jpg',\n",
       " './Negative/00496.jpg',\n",
       " './Negative/00497.jpg',\n",
       " './Negative/00498.jpg',\n",
       " './Negative/00499.jpg',\n",
       " './Negative/00500.jpg',\n",
       " './Negative/00501.jpg',\n",
       " './Negative/00502.jpg',\n",
       " './Negative/00503.jpg',\n",
       " './Negative/00504.jpg',\n",
       " './Negative/00505.jpg',\n",
       " './Negative/00506.jpg',\n",
       " './Negative/00507.jpg',\n",
       " './Negative/00508.jpg',\n",
       " './Negative/00509.jpg',\n",
       " './Negative/00510.jpg',\n",
       " './Negative/00511.jpg',\n",
       " './Negative/00512.jpg',\n",
       " './Negative/00513.jpg',\n",
       " './Negative/00514.jpg',\n",
       " './Negative/00515.jpg',\n",
       " './Negative/00516.jpg',\n",
       " './Negative/00517.jpg',\n",
       " './Negative/00518.jpg',\n",
       " './Negative/00519.jpg',\n",
       " './Negative/00520.jpg',\n",
       " './Negative/00521.jpg',\n",
       " './Negative/00522.jpg',\n",
       " './Negative/00523.jpg',\n",
       " './Negative/00524.jpg',\n",
       " './Negative/00525.jpg',\n",
       " './Negative/00526.jpg',\n",
       " './Negative/00527.jpg',\n",
       " './Negative/00528.jpg',\n",
       " './Negative/00529.jpg',\n",
       " './Negative/00530.jpg',\n",
       " './Negative/00531.jpg',\n",
       " './Negative/00532.jpg',\n",
       " './Negative/00533.jpg',\n",
       " './Negative/00534.jpg',\n",
       " './Negative/00535.jpg',\n",
       " './Negative/00536.jpg',\n",
       " './Negative/00537.jpg',\n",
       " './Negative/00538.jpg',\n",
       " './Negative/00539.jpg',\n",
       " './Negative/00540.jpg',\n",
       " './Negative/00541.jpg',\n",
       " './Negative/00542.jpg',\n",
       " './Negative/00543.jpg',\n",
       " './Negative/00544.jpg',\n",
       " './Negative/00545.jpg',\n",
       " './Negative/00546.jpg',\n",
       " './Negative/00547.jpg',\n",
       " './Negative/00548.jpg',\n",
       " './Negative/00549.jpg',\n",
       " './Negative/00550.jpg',\n",
       " './Negative/00551.jpg',\n",
       " './Negative/00552.jpg',\n",
       " './Negative/00553.jpg',\n",
       " './Negative/00554.jpg',\n",
       " './Negative/00555.jpg',\n",
       " './Negative/00556.jpg',\n",
       " './Negative/00557.jpg',\n",
       " './Negative/00558.jpg',\n",
       " './Negative/00559.jpg',\n",
       " './Negative/00560.jpg',\n",
       " './Negative/00561.jpg',\n",
       " './Negative/00562.jpg',\n",
       " './Negative/00563.jpg',\n",
       " './Negative/00564.jpg',\n",
       " './Negative/00565.jpg',\n",
       " './Negative/00566.jpg',\n",
       " './Negative/00567.jpg',\n",
       " './Negative/00568.jpg',\n",
       " './Negative/00569.jpg',\n",
       " './Negative/00570.jpg',\n",
       " './Negative/00571.jpg',\n",
       " './Negative/00572.jpg',\n",
       " './Negative/00573.jpg',\n",
       " './Negative/00574.jpg',\n",
       " './Negative/00575.jpg',\n",
       " './Negative/00576.jpg',\n",
       " './Negative/00577.jpg',\n",
       " './Negative/00578.jpg',\n",
       " './Negative/00579.jpg',\n",
       " './Negative/00580.jpg',\n",
       " './Negative/00581.jpg',\n",
       " './Negative/00582.jpg',\n",
       " './Negative/00583.jpg',\n",
       " './Negative/00584.jpg',\n",
       " './Negative/00585.jpg',\n",
       " './Negative/00586.jpg',\n",
       " './Negative/00587.jpg',\n",
       " './Negative/00588.jpg',\n",
       " './Negative/00589.jpg',\n",
       " './Negative/00590.jpg',\n",
       " './Negative/00591.jpg',\n",
       " './Negative/00592.jpg',\n",
       " './Negative/00593.jpg',\n",
       " './Negative/00594.jpg',\n",
       " './Negative/00595.jpg',\n",
       " './Negative/00596.jpg',\n",
       " './Negative/00597.jpg',\n",
       " './Negative/00598.jpg',\n",
       " './Negative/00599.jpg',\n",
       " './Negative/00600.jpg',\n",
       " './Negative/00601.jpg',\n",
       " './Negative/00602.jpg',\n",
       " './Negative/00603.jpg',\n",
       " './Negative/00604.jpg',\n",
       " './Negative/00605.jpg',\n",
       " './Negative/00606.jpg',\n",
       " './Negative/00607.jpg',\n",
       " './Negative/00608.jpg',\n",
       " './Negative/00609.jpg',\n",
       " './Negative/00610.jpg',\n",
       " './Negative/00611.jpg',\n",
       " './Negative/00612.jpg',\n",
       " './Negative/00613.jpg',\n",
       " './Negative/00614.jpg',\n",
       " './Negative/00615.jpg',\n",
       " './Negative/00616.jpg',\n",
       " './Negative/00617.jpg',\n",
       " './Negative/00618.jpg',\n",
       " './Negative/00619.jpg',\n",
       " './Negative/00620.jpg',\n",
       " './Negative/00621.jpg',\n",
       " './Negative/00622.jpg',\n",
       " './Negative/00623.jpg',\n",
       " './Negative/00624.jpg',\n",
       " './Negative/00625.jpg',\n",
       " './Negative/00626.jpg',\n",
       " './Negative/00627.jpg',\n",
       " './Negative/00628.jpg',\n",
       " './Negative/00629.jpg',\n",
       " './Negative/00630.jpg',\n",
       " './Negative/00631.jpg',\n",
       " './Negative/00632.jpg',\n",
       " './Negative/00633.jpg',\n",
       " './Negative/00634.jpg',\n",
       " './Negative/00635.jpg',\n",
       " './Negative/00636.jpg',\n",
       " './Negative/00637.jpg',\n",
       " './Negative/00638.jpg',\n",
       " './Negative/00639.jpg',\n",
       " './Negative/00640.jpg',\n",
       " './Negative/00641.jpg',\n",
       " './Negative/00642.jpg',\n",
       " './Negative/00643.jpg',\n",
       " './Negative/00644.jpg',\n",
       " './Negative/00645.jpg',\n",
       " './Negative/00646.jpg',\n",
       " './Negative/00647.jpg',\n",
       " './Negative/00648.jpg',\n",
       " './Negative/00649.jpg',\n",
       " './Negative/00650.jpg',\n",
       " './Negative/00651.jpg',\n",
       " './Negative/00652.jpg',\n",
       " './Negative/00653.jpg',\n",
       " './Negative/00654.jpg',\n",
       " './Negative/00655.jpg',\n",
       " './Negative/00656.jpg',\n",
       " './Negative/00657.jpg',\n",
       " './Negative/00658.jpg',\n",
       " './Negative/00659.jpg',\n",
       " './Negative/00660.jpg',\n",
       " './Negative/00661.jpg',\n",
       " './Negative/00662.jpg',\n",
       " './Negative/00663.jpg',\n",
       " './Negative/00664.jpg',\n",
       " './Negative/00665.jpg',\n",
       " './Negative/00666.jpg',\n",
       " './Negative/00667.jpg',\n",
       " './Negative/00668.jpg',\n",
       " './Negative/00669.jpg',\n",
       " './Negative/00670.jpg',\n",
       " './Negative/00671.jpg',\n",
       " './Negative/00672.jpg',\n",
       " './Negative/00673.jpg',\n",
       " './Negative/00674.jpg',\n",
       " './Negative/00675.jpg',\n",
       " './Negative/00676.jpg',\n",
       " './Negative/00677.jpg',\n",
       " './Negative/00678.jpg',\n",
       " './Negative/00679.jpg',\n",
       " './Negative/00680.jpg',\n",
       " './Negative/00681.jpg',\n",
       " './Negative/00682.jpg',\n",
       " './Negative/00683.jpg',\n",
       " './Negative/00684.jpg',\n",
       " './Negative/00685.jpg',\n",
       " './Negative/00686.jpg',\n",
       " './Negative/00687.jpg',\n",
       " './Negative/00688.jpg',\n",
       " './Negative/00689.jpg',\n",
       " './Negative/00690.jpg',\n",
       " './Negative/00691.jpg',\n",
       " './Negative/00692.jpg',\n",
       " './Negative/00693.jpg',\n",
       " './Negative/00694.jpg',\n",
       " './Negative/00695.jpg',\n",
       " './Negative/00696.jpg',\n",
       " './Negative/00697.jpg',\n",
       " './Negative/00698.jpg',\n",
       " './Negative/00699.jpg',\n",
       " './Negative/00700.jpg',\n",
       " './Negative/00701.jpg',\n",
       " './Negative/00702.jpg',\n",
       " './Negative/00703.jpg',\n",
       " './Negative/00704.jpg',\n",
       " './Negative/00705.jpg',\n",
       " './Negative/00706.jpg',\n",
       " './Negative/00707.jpg',\n",
       " './Negative/00708.jpg',\n",
       " './Negative/00709.jpg',\n",
       " './Negative/00710.jpg',\n",
       " './Negative/00711.jpg',\n",
       " './Negative/00712.jpg',\n",
       " './Negative/00713.jpg',\n",
       " './Negative/00714.jpg',\n",
       " './Negative/00715.jpg',\n",
       " './Negative/00716.jpg',\n",
       " './Negative/00717.jpg',\n",
       " './Negative/00718.jpg',\n",
       " './Negative/00719.jpg',\n",
       " './Negative/00720.jpg',\n",
       " './Negative/00721.jpg',\n",
       " './Negative/00722.jpg',\n",
       " './Negative/00723.jpg',\n",
       " './Negative/00724.jpg',\n",
       " './Negative/00725.jpg',\n",
       " './Negative/00726.jpg',\n",
       " './Negative/00727.jpg',\n",
       " './Negative/00728.jpg',\n",
       " './Negative/00729.jpg',\n",
       " './Negative/00730.jpg',\n",
       " './Negative/00731.jpg',\n",
       " './Negative/00732.jpg',\n",
       " './Negative/00733.jpg',\n",
       " './Negative/00734.jpg',\n",
       " './Negative/00735.jpg',\n",
       " './Negative/00736.jpg',\n",
       " './Negative/00737.jpg',\n",
       " './Negative/00738.jpg',\n",
       " './Negative/00739.jpg',\n",
       " './Negative/00740.jpg',\n",
       " './Negative/00741.jpg',\n",
       " './Negative/00742.jpg',\n",
       " './Negative/00743.jpg',\n",
       " './Negative/00744.jpg',\n",
       " './Negative/00745.jpg',\n",
       " './Negative/00746.jpg',\n",
       " './Negative/00747.jpg',\n",
       " './Negative/00748.jpg',\n",
       " './Negative/00749.jpg',\n",
       " './Negative/00750.jpg',\n",
       " './Negative/00751.jpg',\n",
       " './Negative/00752.jpg',\n",
       " './Negative/00753.jpg',\n",
       " './Negative/00754.jpg',\n",
       " './Negative/00755.jpg',\n",
       " './Negative/00756.jpg',\n",
       " './Negative/00757.jpg',\n",
       " './Negative/00758.jpg',\n",
       " './Negative/00759.jpg',\n",
       " './Negative/00760.jpg',\n",
       " './Negative/00761.jpg',\n",
       " './Negative/00762.jpg',\n",
       " './Negative/00763.jpg',\n",
       " './Negative/00764.jpg',\n",
       " './Negative/00765.jpg',\n",
       " './Negative/00766.jpg',\n",
       " './Negative/00767.jpg',\n",
       " './Negative/00768.jpg',\n",
       " './Negative/00769.jpg',\n",
       " './Negative/00770.jpg',\n",
       " './Negative/00771.jpg',\n",
       " './Negative/00772.jpg',\n",
       " './Negative/00773.jpg',\n",
       " './Negative/00774.jpg',\n",
       " './Negative/00775.jpg',\n",
       " './Negative/00776.jpg',\n",
       " './Negative/00777.jpg',\n",
       " './Negative/00778.jpg',\n",
       " './Negative/00779.jpg',\n",
       " './Negative/00780.jpg',\n",
       " './Negative/00781.jpg',\n",
       " './Negative/00782.jpg',\n",
       " './Negative/00783.jpg',\n",
       " './Negative/00784.jpg',\n",
       " './Negative/00785.jpg',\n",
       " './Negative/00786.jpg',\n",
       " './Negative/00787.jpg',\n",
       " './Negative/00788.jpg',\n",
       " './Negative/00789.jpg',\n",
       " './Negative/00790.jpg',\n",
       " './Negative/00791.jpg',\n",
       " './Negative/00792.jpg',\n",
       " './Negative/00793.jpg',\n",
       " './Negative/00794.jpg',\n",
       " './Negative/00795.jpg',\n",
       " './Negative/00796.jpg',\n",
       " './Negative/00797.jpg',\n",
       " './Negative/00798.jpg',\n",
       " './Negative/00799.jpg',\n",
       " './Negative/00800.jpg',\n",
       " './Negative/00801.jpg',\n",
       " './Negative/00802.jpg',\n",
       " './Negative/00803.jpg',\n",
       " './Negative/00804.jpg',\n",
       " './Negative/00805.jpg',\n",
       " './Negative/00806.jpg',\n",
       " './Negative/00807.jpg',\n",
       " './Negative/00808.jpg',\n",
       " './Negative/00809.jpg',\n",
       " './Negative/00810.jpg',\n",
       " './Negative/00811.jpg',\n",
       " './Negative/00812.jpg',\n",
       " './Negative/00813.jpg',\n",
       " './Negative/00814.jpg',\n",
       " './Negative/00815.jpg',\n",
       " './Negative/00816.jpg',\n",
       " './Negative/00817.jpg',\n",
       " './Negative/00818.jpg',\n",
       " './Negative/00819.jpg',\n",
       " './Negative/00820.jpg',\n",
       " './Negative/00821.jpg',\n",
       " './Negative/00822.jpg',\n",
       " './Negative/00823.jpg',\n",
       " './Negative/00824.jpg',\n",
       " './Negative/00825.jpg',\n",
       " './Negative/00826.jpg',\n",
       " './Negative/00827.jpg',\n",
       " './Negative/00828.jpg',\n",
       " './Negative/00829.jpg',\n",
       " './Negative/00830.jpg',\n",
       " './Negative/00831.jpg',\n",
       " './Negative/00832.jpg',\n",
       " './Negative/00833.jpg',\n",
       " './Negative/00834.jpg',\n",
       " './Negative/00835.jpg',\n",
       " './Negative/00836.jpg',\n",
       " './Negative/00837.jpg',\n",
       " './Negative/00838.jpg',\n",
       " './Negative/00839.jpg',\n",
       " './Negative/00840.jpg',\n",
       " './Negative/00841.jpg',\n",
       " './Negative/00842.jpg',\n",
       " './Negative/00843.jpg',\n",
       " './Negative/00844.jpg',\n",
       " './Negative/00845.jpg',\n",
       " './Negative/00846.jpg',\n",
       " './Negative/00847.jpg',\n",
       " './Negative/00848.jpg',\n",
       " './Negative/00849.jpg',\n",
       " './Negative/00850.jpg',\n",
       " './Negative/00851.jpg',\n",
       " './Negative/00852.jpg',\n",
       " './Negative/00853.jpg',\n",
       " './Negative/00854.jpg',\n",
       " './Negative/00855.jpg',\n",
       " './Negative/00856.jpg',\n",
       " './Negative/00857.jpg',\n",
       " './Negative/00858.jpg',\n",
       " './Negative/00859.jpg',\n",
       " './Negative/00860.jpg',\n",
       " './Negative/00861.jpg',\n",
       " './Negative/00862.jpg',\n",
       " './Negative/00863.jpg',\n",
       " './Negative/00864.jpg',\n",
       " './Negative/00865.jpg',\n",
       " './Negative/00866.jpg',\n",
       " './Negative/00867.jpg',\n",
       " './Negative/00868.jpg',\n",
       " './Negative/00869.jpg',\n",
       " './Negative/00870.jpg',\n",
       " './Negative/00871.jpg',\n",
       " './Negative/00872.jpg',\n",
       " './Negative/00873.jpg',\n",
       " './Negative/00874.jpg',\n",
       " './Negative/00875.jpg',\n",
       " './Negative/00876.jpg',\n",
       " './Negative/00877.jpg',\n",
       " './Negative/00878.jpg',\n",
       " './Negative/00879.jpg',\n",
       " './Negative/00880.jpg',\n",
       " './Negative/00881.jpg',\n",
       " './Negative/00882.jpg',\n",
       " './Negative/00883.jpg',\n",
       " './Negative/00884.jpg',\n",
       " './Negative/00885.jpg',\n",
       " './Negative/00886.jpg',\n",
       " './Negative/00887.jpg',\n",
       " './Negative/00888.jpg',\n",
       " './Negative/00889.jpg',\n",
       " './Negative/00890.jpg',\n",
       " './Negative/00891.jpg',\n",
       " './Negative/00892.jpg',\n",
       " './Negative/00893.jpg',\n",
       " './Negative/00894.jpg',\n",
       " './Negative/00895.jpg',\n",
       " './Negative/00896.jpg',\n",
       " './Negative/00897.jpg',\n",
       " './Negative/00898.jpg',\n",
       " './Negative/00899.jpg',\n",
       " './Negative/00900.jpg',\n",
       " './Negative/00901.jpg',\n",
       " './Negative/00902.jpg',\n",
       " './Negative/00903.jpg',\n",
       " './Negative/00904.jpg',\n",
       " './Negative/00905.jpg',\n",
       " './Negative/00906.jpg',\n",
       " './Negative/00907.jpg',\n",
       " './Negative/00908.jpg',\n",
       " './Negative/00909.jpg',\n",
       " './Negative/00910.jpg',\n",
       " './Negative/00911.jpg',\n",
       " './Negative/00912.jpg',\n",
       " './Negative/00913.jpg',\n",
       " './Negative/00914.jpg',\n",
       " './Negative/00915.jpg',\n",
       " './Negative/00916.jpg',\n",
       " './Negative/00917.jpg',\n",
       " './Negative/00918.jpg',\n",
       " './Negative/00919.jpg',\n",
       " './Negative/00920.jpg',\n",
       " './Negative/00921.jpg',\n",
       " './Negative/00922.jpg',\n",
       " './Negative/00923.jpg',\n",
       " './Negative/00924.jpg',\n",
       " './Negative/00925.jpg',\n",
       " './Negative/00926.jpg',\n",
       " './Negative/00927.jpg',\n",
       " './Negative/00928.jpg',\n",
       " './Negative/00929.jpg',\n",
       " './Negative/00930.jpg',\n",
       " './Negative/00931.jpg',\n",
       " './Negative/00932.jpg',\n",
       " './Negative/00933.jpg',\n",
       " './Negative/00934.jpg',\n",
       " './Negative/00935.jpg',\n",
       " './Negative/00936.jpg',\n",
       " './Negative/00937.jpg',\n",
       " './Negative/00938.jpg',\n",
       " './Negative/00939.jpg',\n",
       " './Negative/00940.jpg',\n",
       " './Negative/00941.jpg',\n",
       " './Negative/00942.jpg',\n",
       " './Negative/00943.jpg',\n",
       " './Negative/00944.jpg',\n",
       " './Negative/00945.jpg',\n",
       " './Negative/00946.jpg',\n",
       " './Negative/00947.jpg',\n",
       " './Negative/00948.jpg',\n",
       " './Negative/00949.jpg',\n",
       " './Negative/00950.jpg',\n",
       " './Negative/00951.jpg',\n",
       " './Negative/00952.jpg',\n",
       " './Negative/00953.jpg',\n",
       " './Negative/00954.jpg',\n",
       " './Negative/00955.jpg',\n",
       " './Negative/00956.jpg',\n",
       " './Negative/00957.jpg',\n",
       " './Negative/00958.jpg',\n",
       " './Negative/00959.jpg',\n",
       " './Negative/00960.jpg',\n",
       " './Negative/00961.jpg',\n",
       " './Negative/00962.jpg',\n",
       " './Negative/00963.jpg',\n",
       " './Negative/00964.jpg',\n",
       " './Negative/00965.jpg',\n",
       " './Negative/00966.jpg',\n",
       " './Negative/00967.jpg',\n",
       " './Negative/00968.jpg',\n",
       " './Negative/00969.jpg',\n",
       " './Negative/00970.jpg',\n",
       " './Negative/00971.jpg',\n",
       " './Negative/00972.jpg',\n",
       " './Negative/00973.jpg',\n",
       " './Negative/00974.jpg',\n",
       " './Negative/00975.jpg',\n",
       " './Negative/00976.jpg',\n",
       " './Negative/00977.jpg',\n",
       " './Negative/00978.jpg',\n",
       " './Negative/00979.jpg',\n",
       " './Negative/00980.jpg',\n",
       " './Negative/00981.jpg',\n",
       " './Negative/00982.jpg',\n",
       " './Negative/00983.jpg',\n",
       " './Negative/00984.jpg',\n",
       " './Negative/00985.jpg',\n",
       " './Negative/00986.jpg',\n",
       " './Negative/00987.jpg',\n",
       " './Negative/00988.jpg',\n",
       " './Negative/00989.jpg',\n",
       " './Negative/00990.jpg',\n",
       " './Negative/00991.jpg',\n",
       " './Negative/00992.jpg',\n",
       " './Negative/00993.jpg',\n",
       " './Negative/00994.jpg',\n",
       " './Negative/00995.jpg',\n",
       " './Negative/00996.jpg',\n",
       " './Negative/00997.jpg',\n",
       " './Negative/00998.jpg',\n",
       " './Negative/00999.jpg',\n",
       " './Negative/01000.jpg',\n",
       " ...]"
      ]
     },
     "execution_count": 9,
     "metadata": {},
     "output_type": "execute_result"
    }
   ],
   "source": [
    "negative_images_dir = ['./Negative/{}'.format(image) for image in negative_images]\n",
    "negative_images_dir"
   ]
  },
  {
   "cell_type": "markdown",
   "metadata": {
    "button": false,
    "deletable": true,
    "new_sheet": false,
    "run_control": {
     "read_only": false
    }
   },
   "source": [
    "Let's check how many images with no cracks exist in the dataset."
   ]
  },
  {
   "cell_type": "code",
   "execution_count": 10,
   "metadata": {
    "button": false,
    "deletable": true,
    "new_sheet": false,
    "run_control": {
     "read_only": false
    }
   },
   "outputs": [
    {
     "data": {
      "text/plain": [
       "20000"
      ]
     },
     "execution_count": 10,
     "metadata": {},
     "output_type": "execute_result"
    }
   ],
   "source": [
    "len(negative_images_dir)"
   ]
  },
  {
   "cell_type": "markdown",
   "metadata": {
    "button": false,
    "deletable": true,
    "new_sheet": false,
    "run_control": {
     "read_only": false
    }
   },
   "source": [
    "### Question: Show the next four images."
   ]
  },
  {
   "cell_type": "code",
   "execution_count": 13,
   "metadata": {
    "button": false,
    "deletable": true,
    "new_sheet": false,
    "run_control": {
     "read_only": false
    }
   },
   "outputs": [
    {
     "ename": "ValueError",
     "evalue": "too many values to unpack (expected 4)",
     "output_type": "error",
     "traceback": [
      "\u001b[0;31m---------------------------------------------------------------------------\u001b[0m",
      "\u001b[0;31mValueError\u001b[0m                                Traceback (most recent call last)",
      "\u001b[0;32m<ipython-input-13-7ede833fb09c>\u001b[0m in \u001b[0;36m<module>\u001b[0;34m\u001b[0m\n\u001b[1;32m      1\u001b[0m \u001b[0;31m## You can use this cell to type your code to answer the above question\u001b[0m\u001b[0;34m\u001b[0m\u001b[0;34m\u001b[0m\u001b[0;34m\u001b[0m\u001b[0m\n\u001b[1;32m      2\u001b[0m \u001b[0;32mfor\u001b[0m \u001b[0mi\u001b[0m \u001b[0;32min\u001b[0m \u001b[0mrange\u001b[0m\u001b[0;34m(\u001b[0m\u001b[0;36m4\u001b[0m\u001b[0;34m)\u001b[0m\u001b[0;34m:\u001b[0m\u001b[0;34m\u001b[0m\u001b[0;34m\u001b[0m\u001b[0m\n\u001b[0;32m----> 3\u001b[0;31m     \u001b[0mimage1\u001b[0m\u001b[0;34m,\u001b[0m \u001b[0mim2\u001b[0m\u001b[0;34m,\u001b[0m \u001b[0mim3\u001b[0m\u001b[0;34m,\u001b[0m \u001b[0mim4\u001b[0m \u001b[0;34m=\u001b[0m \u001b[0mnegative_images_dir\u001b[0m\u001b[0;34m[\u001b[0m\u001b[0mi\u001b[0m\u001b[0;34m]\u001b[0m\u001b[0;34m\u001b[0m\u001b[0;34m\u001b[0m\u001b[0m\n\u001b[0m\u001b[1;32m      4\u001b[0m     \u001b[0mplt\u001b[0m\u001b[0;34m.\u001b[0m\u001b[0mimsghow\u001b[0m\u001b[0;34m(\u001b[0m\u001b[0mimage1\u001b[0m\u001b[0;34m)\u001b[0m\u001b[0;34m\u001b[0m\u001b[0;34m\u001b[0m\u001b[0m\n\u001b[1;32m      5\u001b[0m \u001b[0;34m\u001b[0m\u001b[0m\n",
      "\u001b[0;31mValueError\u001b[0m: too many values to unpack (expected 4)"
     ]
    }
   ],
   "source": [
    "## You can use this cell to type your code to answer the above question\n",
    "\n",
    "i in range(4):\n",
    "    image1, im2, im3, im4 = negative_images_dir[i]\n",
    "    plt.imsghow(image1)\n",
    "\n",
    "\n",
    "\n",
    "\n",
    "\n"
   ]
  },
  {
   "cell_type": "markdown",
   "metadata": {
    "button": false,
    "deletable": true,
    "new_sheet": false,
    "run_control": {
     "read_only": false
    }
   },
   "source": [
    "**Your turn**: Save the paths to all the images in the *./Positive* directory in a list called **positive_images_dir**. Make sure to sort the paths."
   ]
  },
  {
   "cell_type": "code",
   "execution_count": null,
   "metadata": {
    "button": false,
    "deletable": true,
    "new_sheet": false,
    "run_control": {
     "read_only": false
    }
   },
   "outputs": [],
   "source": [
    "## Type your answer here\n",
    "\n",
    "\n",
    "\n",
    "\n",
    "\n"
   ]
  },
  {
   "cell_type": "markdown",
   "metadata": {
    "button": false,
    "deletable": true,
    "new_sheet": false,
    "run_control": {
     "read_only": false
    }
   },
   "source": [
    "### Question: How many images of cracked concrete exist in the *./Positive* directory?"
   ]
  },
  {
   "cell_type": "code",
   "execution_count": null,
   "metadata": {
    "button": false,
    "deletable": true,
    "new_sheet": false,
    "run_control": {
     "read_only": false
    }
   },
   "outputs": [],
   "source": [
    "## You can use this cell to type your code to answer the above question\n",
    "\n"
   ]
  },
  {
   "cell_type": "markdown",
   "metadata": {
    "button": false,
    "deletable": true,
    "new_sheet": false,
    "run_control": {
     "read_only": false
    }
   },
   "source": [
    "### Question: Show the first four images with cracked concrete."
   ]
  },
  {
   "cell_type": "code",
   "execution_count": null,
   "metadata": {
    "button": false,
    "deletable": true,
    "new_sheet": false,
    "run_control": {
     "read_only": false
    },
    "scrolled": true
   },
   "outputs": [],
   "source": [
    "## You can use this cell to type your code to answer the above question\n",
    "\n",
    "\n",
    "\n",
    "\n",
    "\n"
   ]
  },
  {
   "cell_type": "markdown",
   "metadata": {
    "button": false,
    "deletable": true,
    "new_sheet": false,
    "run_control": {
     "read_only": false
    }
   },
   "source": [
    " "
   ]
  },
  {
   "cell_type": "markdown",
   "metadata": {
    "button": false,
    "deletable": true,
    "new_sheet": false,
    "run_control": {
     "read_only": false
    }
   },
   "source": [
    "### Thank you for completing this lab!\n",
    "\n",
    "This notebook was created by Alex Aklson. I hope you found this lab interesting and educational."
   ]
  },
  {
   "cell_type": "markdown",
   "metadata": {
    "button": false,
    "deletable": true,
    "new_sheet": false,
    "run_control": {
     "read_only": false
    }
   },
   "source": [
    "This notebook is part of a course on **Coursera** called *AI Capstone Project with Deep Learning*. If you accessed this notebook outside the course, you can take this course online by clicking [here](https://cocl.us/DL0321EN_Coursera_Week1_LAB1)."
   ]
  },
  {
   "cell_type": "markdown",
   "metadata": {
    "button": false,
    "deletable": true,
    "new_sheet": false,
    "run_control": {
     "read_only": false
    }
   },
   "source": [
    "<hr>\n",
    "\n",
    "Copyright &copy; 2020 [IBM Developer Skills Network](https://cognitiveclass.ai/?utm_source=bducopyrightlink&utm_medium=dswb&utm_campaign=bdu). This notebook and its source code are released under the terms of the [MIT License](https://bigdatauniversity.com/mit-license/)."
   ]
  }
 ],
 "metadata": {
  "kernelspec": {
   "display_name": "Python",
   "language": "python",
   "name": "conda-env-python-py"
  },
  "language_info": {
   "codemirror_mode": {
    "name": "ipython",
    "version": 3
   },
   "file_extension": ".py",
   "mimetype": "text/x-python",
   "name": "python",
   "nbconvert_exporter": "python",
   "pygments_lexer": "ipython3",
   "version": "3.6.11"
  }
 },
 "nbformat": 4,
 "nbformat_minor": 4
}
